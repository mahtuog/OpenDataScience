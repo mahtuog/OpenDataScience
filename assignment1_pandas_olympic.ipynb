{
 "cells": [
  {
   "cell_type": "markdown",
   "metadata": {},
   "source": [
    "<center>\n",
    "<img src=\"../../img/ods_stickers.jpg\" />\n",
    "    \n",
    "## [mlcourse.ai](mlcourse.ai) – Open Machine Learning Course \n",
    "Author: Arina Lopukhova (@erynn). Edited by [Yury Kashnitskiy](https://yorko.github.io) (@yorko). This material is subject to the terms and conditions of the [Creative Commons CC BY-NC-SA 4.0](https://creativecommons.org/licenses/by-nc-sa/4.0/) license. Free use is permitted for any non-commercial purpose."
   ]
  },
  {
   "cell_type": "markdown",
   "metadata": {},
   "source": [
    "<h1><center>Assignment #1. Fall 2018</center></h1>\n",
    "<h2><center>Exploratory data analysis of Olympic games with Pandas</center></h2>"
   ]
  },
  {
   "cell_type": "markdown",
   "metadata": {},
   "source": [
    "__There are ten questions about [120 years of Olympic history: athletes and results](https://www.kaggle.com/heesoo37/120-years-of-olympic-history-athletes-and-results/version/2) dataset in this task. Your task is to fill in the missing Python code and choose answers in [this web-form](https://docs.google.com/forms/d/179HYvlF_0x435CWdu2aOtR9a3flh0YCQXXNXhXaKw2M).__"
   ]
  },
  {
   "cell_type": "markdown",
   "metadata": {},
   "source": [
    "Download the file `athlete_events.csv` from [Kaggle page](https://www.kaggle.com/heesoo37/120-years-of-olympic-history-athletes-and-results). The dataset has the following features (copied from Kaggle):\n",
    "\n",
    "- __ID__ - Unique number for each athlete\n",
    "- __Name__ - Athlete's name\n",
    "- __Sex__ - M or F\n",
    "- __Age__ - Integer\n",
    "- __Height__ - In centimeters\n",
    "- __Weight__ - In kilograms\n",
    "- __Team__ - Team name\n",
    "- __NOC__ - National Olympic Committee 3-letter code\n",
    "- __Games__ - Year and season\n",
    "- __Year__ - Integer\n",
    "- __Season__ - Summer or Winter\n",
    "- __City__ - Host city\n",
    "- __Sport__ - Sport\n",
    "- __Event__ - Event\n",
    "- __Medal__ - Gold, Silver, Bronze, or NA"
   ]
  },
  {
   "cell_type": "code",
   "execution_count": 1,
   "metadata": {},
   "outputs": [],
   "source": [
    "import pandas as pd"
   ]
  },
  {
   "cell_type": "code",
   "execution_count": 2,
   "metadata": {},
   "outputs": [],
   "source": [
    "# Change the path to the dataset file if needed. \n",
    "PATH = '120-years-of-olympic-history-athletes-and-results/athlete_events.csv'"
   ]
  },
  {
   "cell_type": "code",
   "execution_count": 3,
   "metadata": {},
   "outputs": [
    {
     "data": {
      "text/html": [
       "<div>\n",
       "<style scoped>\n",
       "    .dataframe tbody tr th:only-of-type {\n",
       "        vertical-align: middle;\n",
       "    }\n",
       "\n",
       "    .dataframe tbody tr th {\n",
       "        vertical-align: top;\n",
       "    }\n",
       "\n",
       "    .dataframe thead th {\n",
       "        text-align: right;\n",
       "    }\n",
       "</style>\n",
       "<table border=\"1\" class=\"dataframe\">\n",
       "  <thead>\n",
       "    <tr style=\"text-align: right;\">\n",
       "      <th></th>\n",
       "      <th>ID</th>\n",
       "      <th>Name</th>\n",
       "      <th>Sex</th>\n",
       "      <th>Age</th>\n",
       "      <th>Height</th>\n",
       "      <th>Weight</th>\n",
       "      <th>Team</th>\n",
       "      <th>NOC</th>\n",
       "      <th>Games</th>\n",
       "      <th>Year</th>\n",
       "      <th>Season</th>\n",
       "      <th>City</th>\n",
       "      <th>Sport</th>\n",
       "      <th>Event</th>\n",
       "      <th>Medal</th>\n",
       "    </tr>\n",
       "  </thead>\n",
       "  <tbody>\n",
       "    <tr>\n",
       "      <th>0</th>\n",
       "      <td>1</td>\n",
       "      <td>A Dijiang</td>\n",
       "      <td>M</td>\n",
       "      <td>24.0</td>\n",
       "      <td>180.0</td>\n",
       "      <td>80.0</td>\n",
       "      <td>China</td>\n",
       "      <td>CHN</td>\n",
       "      <td>1992 Summer</td>\n",
       "      <td>1992</td>\n",
       "      <td>Summer</td>\n",
       "      <td>Barcelona</td>\n",
       "      <td>Basketball</td>\n",
       "      <td>Basketball Men's Basketball</td>\n",
       "      <td>NaN</td>\n",
       "    </tr>\n",
       "    <tr>\n",
       "      <th>1</th>\n",
       "      <td>2</td>\n",
       "      <td>A Lamusi</td>\n",
       "      <td>M</td>\n",
       "      <td>23.0</td>\n",
       "      <td>170.0</td>\n",
       "      <td>60.0</td>\n",
       "      <td>China</td>\n",
       "      <td>CHN</td>\n",
       "      <td>2012 Summer</td>\n",
       "      <td>2012</td>\n",
       "      <td>Summer</td>\n",
       "      <td>London</td>\n",
       "      <td>Judo</td>\n",
       "      <td>Judo Men's Extra-Lightweight</td>\n",
       "      <td>NaN</td>\n",
       "    </tr>\n",
       "    <tr>\n",
       "      <th>2</th>\n",
       "      <td>3</td>\n",
       "      <td>Gunnar Nielsen Aaby</td>\n",
       "      <td>M</td>\n",
       "      <td>24.0</td>\n",
       "      <td>NaN</td>\n",
       "      <td>NaN</td>\n",
       "      <td>Denmark</td>\n",
       "      <td>DEN</td>\n",
       "      <td>1920 Summer</td>\n",
       "      <td>1920</td>\n",
       "      <td>Summer</td>\n",
       "      <td>Antwerpen</td>\n",
       "      <td>Football</td>\n",
       "      <td>Football Men's Football</td>\n",
       "      <td>NaN</td>\n",
       "    </tr>\n",
       "    <tr>\n",
       "      <th>3</th>\n",
       "      <td>4</td>\n",
       "      <td>Edgar Lindenau Aabye</td>\n",
       "      <td>M</td>\n",
       "      <td>34.0</td>\n",
       "      <td>NaN</td>\n",
       "      <td>NaN</td>\n",
       "      <td>Denmark/Sweden</td>\n",
       "      <td>DEN</td>\n",
       "      <td>1900 Summer</td>\n",
       "      <td>1900</td>\n",
       "      <td>Summer</td>\n",
       "      <td>Paris</td>\n",
       "      <td>Tug-Of-War</td>\n",
       "      <td>Tug-Of-War Men's Tug-Of-War</td>\n",
       "      <td>Gold</td>\n",
       "    </tr>\n",
       "    <tr>\n",
       "      <th>4</th>\n",
       "      <td>5</td>\n",
       "      <td>Christine Jacoba Aaftink</td>\n",
       "      <td>F</td>\n",
       "      <td>21.0</td>\n",
       "      <td>185.0</td>\n",
       "      <td>82.0</td>\n",
       "      <td>Netherlands</td>\n",
       "      <td>NED</td>\n",
       "      <td>1988 Winter</td>\n",
       "      <td>1988</td>\n",
       "      <td>Winter</td>\n",
       "      <td>Calgary</td>\n",
       "      <td>Speed Skating</td>\n",
       "      <td>Speed Skating Women's 500 metres</td>\n",
       "      <td>NaN</td>\n",
       "    </tr>\n",
       "  </tbody>\n",
       "</table>\n",
       "</div>"
      ],
      "text/plain": [
       "   ID                      Name Sex   Age  Height  Weight            Team  \\\n",
       "0   1                 A Dijiang   M  24.0   180.0    80.0           China   \n",
       "1   2                  A Lamusi   M  23.0   170.0    60.0           China   \n",
       "2   3       Gunnar Nielsen Aaby   M  24.0     NaN     NaN         Denmark   \n",
       "3   4      Edgar Lindenau Aabye   M  34.0     NaN     NaN  Denmark/Sweden   \n",
       "4   5  Christine Jacoba Aaftink   F  21.0   185.0    82.0     Netherlands   \n",
       "\n",
       "   NOC        Games  Year  Season       City          Sport  \\\n",
       "0  CHN  1992 Summer  1992  Summer  Barcelona     Basketball   \n",
       "1  CHN  2012 Summer  2012  Summer     London           Judo   \n",
       "2  DEN  1920 Summer  1920  Summer  Antwerpen       Football   \n",
       "3  DEN  1900 Summer  1900  Summer      Paris     Tug-Of-War   \n",
       "4  NED  1988 Winter  1988  Winter    Calgary  Speed Skating   \n",
       "\n",
       "                              Event Medal  \n",
       "0       Basketball Men's Basketball   NaN  \n",
       "1      Judo Men's Extra-Lightweight   NaN  \n",
       "2           Football Men's Football   NaN  \n",
       "3       Tug-Of-War Men's Tug-Of-War  Gold  \n",
       "4  Speed Skating Women's 500 metres   NaN  "
      ]
     },
     "execution_count": 3,
     "metadata": {},
     "output_type": "execute_result"
    }
   ],
   "source": [
    "data = pd.read_csv(PATH)\n",
    "data.head()"
   ]
  },
  {
   "cell_type": "markdown",
   "metadata": {},
   "source": [
    "__1. How old were the youngest male and female participants of the 1996 Olympics?__\n",
    "\n",
    "- 16 and 15\n",
    "- 14 and 12 \n",
    "- 16 and 12\n",
    "- 13 and 11"
   ]
  },
  {
   "cell_type": "code",
   "execution_count": 4,
   "metadata": {},
   "outputs": [
    {
     "name": "stdout",
     "output_type": "stream",
     "text": [
      "14.0 12.0\n"
     ]
    }
   ],
   "source": [
    "# You code here \n",
    "data1996 = data[data['Year'] == 1996]\n",
    "min_female_age = data1996[data1996['Sex'] == 'F']['Age'].min()\n",
    "min_male_age = data1996[data1996['Sex'] == 'M']['Age'].min()\n",
    "print(min_male_age,min_female_age)"
   ]
  },
  {
   "cell_type": "markdown",
   "metadata": {},
   "source": [
    "__2. What was the percentage of male gymnasts among all the male participants of the 2000 Olympics? Round the answer to the first decimal.__\n",
    "\n",
    "*Hint:* here and further if needed drop duplicated sportsmen to count only unique ones. \n",
    "\n",
    "- 0.2\n",
    "- 1.5 \n",
    "- 2.5\n",
    "- 7.7"
   ]
  },
  {
   "cell_type": "code",
   "execution_count": 49,
   "metadata": {},
   "outputs": [
    {
     "name": "stdout",
     "output_type": "stream",
     "text": [
      "2.57\n"
     ]
    }
   ],
   "source": [
    "# You code here \n",
    "data2000olympics = data[data['Year'] == 2000]\n",
    "unique_names = data.groupby(['Name','Sex','Sport'],as_index=False).count()[['Name','Sex','Sport']]\n",
    "percentage_of_gymnasts = len(unique_names[(unique_names['Sex'] == 'M') & (unique_names['Sport'] == 'Gymnastics')]) / \\\n",
    "                    len(unique_names[unique_names['Sex'] == 'M']) * 100\n",
    "print(round(percentage_of_gymnasts,2))"
   ]
  },
  {
   "cell_type": "markdown",
   "metadata": {},
   "source": [
    "__3. What are the mean and standard deviation of height for female basketball players participated in the 2000 Olympics? Round the answer to the first decimal.__\n",
    "\n",
    "- 178.5 and 7.2\n",
    "- 179.4 and 10\n",
    "- 180.7 and 6.7\n",
    "- 182.4 and 9.1 "
   ]
  },
  {
   "cell_type": "code",
   "execution_count": 60,
   "metadata": {},
   "outputs": [
    {
     "name": "stdout",
     "output_type": "stream",
     "text": [
      "182.4 and 9.1\n"
     ]
    }
   ],
   "source": [
    "# You code here \n",
    "female_basketball_players = data2000olympics[(data2000olympics['Sex'] == 'F') & \\\n",
    "                                (data2000olympics['Sport'] == 'Basketball')]\n",
    "# all names are unique\n",
    "mean_height = round(female_basketball_players['Height'].mean(),1)\n",
    "std = round(female_basketball_players['Height'].std(),1)\n",
    "print(mean_height,'and',std)"
   ]
  },
  {
   "cell_type": "markdown",
   "metadata": {},
   "source": [
    "__4. Find a sportsperson participated in the 2002 Olympics, with the highest weight among other participants of the same Olympics. What sport did he or she do?__\n",
    "\n",
    "- Judo\n",
    "- Bobsleigh \n",
    "- Weightlifting\n",
    "- Boxing"
   ]
  },
  {
   "cell_type": "code",
   "execution_count": 71,
   "metadata": {},
   "outputs": [
    {
     "data": {
      "text/html": [
       "<div>\n",
       "<style scoped>\n",
       "    .dataframe tbody tr th:only-of-type {\n",
       "        vertical-align: middle;\n",
       "    }\n",
       "\n",
       "    .dataframe tbody tr th {\n",
       "        vertical-align: top;\n",
       "    }\n",
       "\n",
       "    .dataframe thead th {\n",
       "        text-align: right;\n",
       "    }\n",
       "</style>\n",
       "<table border=\"1\" class=\"dataframe\">\n",
       "  <thead>\n",
       "    <tr style=\"text-align: right;\">\n",
       "      <th></th>\n",
       "      <th>Name</th>\n",
       "      <th>Sport</th>\n",
       "      <th>Weight</th>\n",
       "      <th>Year</th>\n",
       "    </tr>\n",
       "  </thead>\n",
       "  <tbody>\n",
       "    <tr>\n",
       "      <th>99154</th>\n",
       "      <td>Emmanuel Hostache</td>\n",
       "      <td>Bobsleigh</td>\n",
       "      <td>123.0</td>\n",
       "      <td>2002</td>\n",
       "    </tr>\n",
       "  </tbody>\n",
       "</table>\n",
       "</div>"
      ],
      "text/plain": [
       "                    Name      Sport  Weight  Year\n",
       "99154  Emmanuel Hostache  Bobsleigh   123.0  2002"
      ]
     },
     "execution_count": 71,
     "metadata": {},
     "output_type": "execute_result"
    }
   ],
   "source": [
    "# You code here \n",
    "olympics2002 = data[data['Year'] == 2002]\n",
    "#max_weight = olympics2002['Weight'].max()\n",
    "olympics2002.loc[olympics2002['Weight'] == olympics2002['Weight'].max()][['Name','Sport','Weight','Year']]"
   ]
  },
  {
   "cell_type": "markdown",
   "metadata": {},
   "source": [
    "__5. How many times did Pawe Abratkiewicz participate in the Olympics held in different years?__\n",
    "\n",
    "- 0\n",
    "- 1 \n",
    "- 2\n",
    "- 3 "
   ]
  },
  {
   "cell_type": "code",
   "execution_count": 84,
   "metadata": {},
   "outputs": [
    {
     "data": {
      "text/html": [
       "<div>\n",
       "<style scoped>\n",
       "    .dataframe tbody tr th:only-of-type {\n",
       "        vertical-align: middle;\n",
       "    }\n",
       "\n",
       "    .dataframe tbody tr th {\n",
       "        vertical-align: top;\n",
       "    }\n",
       "\n",
       "    .dataframe thead th {\n",
       "        text-align: right;\n",
       "    }\n",
       "</style>\n",
       "<table border=\"1\" class=\"dataframe\">\n",
       "  <thead>\n",
       "    <tr style=\"text-align: right;\">\n",
       "      <th></th>\n",
       "      <th>Name</th>\n",
       "      <th>Year</th>\n",
       "      <th>Event</th>\n",
       "    </tr>\n",
       "  </thead>\n",
       "  <tbody>\n",
       "    <tr>\n",
       "      <th>0</th>\n",
       "      <td>Pawe Abratkiewicz</td>\n",
       "      <td>1992</td>\n",
       "      <td>2</td>\n",
       "    </tr>\n",
       "    <tr>\n",
       "      <th>1</th>\n",
       "      <td>Pawe Abratkiewicz</td>\n",
       "      <td>1998</td>\n",
       "      <td>2</td>\n",
       "    </tr>\n",
       "    <tr>\n",
       "      <th>2</th>\n",
       "      <td>Pawe Abratkiewicz</td>\n",
       "      <td>2002</td>\n",
       "      <td>2</td>\n",
       "    </tr>\n",
       "  </tbody>\n",
       "</table>\n",
       "</div>"
      ],
      "text/plain": [
       "                Name  Year  Event\n",
       "0  Pawe Abratkiewicz  1992      2\n",
       "1  Pawe Abratkiewicz  1998      2\n",
       "2  Pawe Abratkiewicz  2002      2"
      ]
     },
     "execution_count": 84,
     "metadata": {},
     "output_type": "execute_result"
    }
   ],
   "source": [
    "# You code here \n",
    "pawe_olympcis_data = data.loc[data['Name'] == 'Pawe Abratkiewicz']\n",
    "pawe_olympcis_data.groupby(['Name','Year'],as_index=False).count()[['Name','Year','Event']]\n",
    "# pawe abratkiewics participated in 3 olympics held in 1992,1998 and 2002"
   ]
  },
  {
   "cell_type": "markdown",
   "metadata": {},
   "source": [
    "__6. How many silver medals in tennis did Australia win at the 2000 Olympics?__\n",
    "\n",
    "- 0\n",
    "- 1 \n",
    "- 2 \n",
    "- 3 "
   ]
  },
  {
   "cell_type": "code",
   "execution_count": 95,
   "metadata": {},
   "outputs": [
    {
     "data": {
      "text/html": [
       "<div>\n",
       "<style scoped>\n",
       "    .dataframe tbody tr th:only-of-type {\n",
       "        vertical-align: middle;\n",
       "    }\n",
       "\n",
       "    .dataframe tbody tr th {\n",
       "        vertical-align: top;\n",
       "    }\n",
       "\n",
       "    .dataframe thead th {\n",
       "        text-align: right;\n",
       "    }\n",
       "</style>\n",
       "<table border=\"1\" class=\"dataframe\">\n",
       "  <thead>\n",
       "    <tr style=\"text-align: right;\">\n",
       "      <th></th>\n",
       "      <th>ID</th>\n",
       "      <th>Name</th>\n",
       "      <th>Sex</th>\n",
       "      <th>Age</th>\n",
       "      <th>Height</th>\n",
       "      <th>Weight</th>\n",
       "      <th>Team</th>\n",
       "      <th>NOC</th>\n",
       "      <th>Games</th>\n",
       "      <th>Year</th>\n",
       "      <th>Season</th>\n",
       "      <th>City</th>\n",
       "      <th>Sport</th>\n",
       "      <th>Event</th>\n",
       "      <th>Medal</th>\n",
       "    </tr>\n",
       "  </thead>\n",
       "  <tbody>\n",
       "    <tr>\n",
       "      <th>262820</th>\n",
       "      <td>131504</td>\n",
       "      <td>Todd Andrew Woodbridge</td>\n",
       "      <td>M</td>\n",
       "      <td>29.0</td>\n",
       "      <td>178.0</td>\n",
       "      <td>75.0</td>\n",
       "      <td>Australia</td>\n",
       "      <td>AUS</td>\n",
       "      <td>2000 Summer</td>\n",
       "      <td>2000</td>\n",
       "      <td>Summer</td>\n",
       "      <td>Sydney</td>\n",
       "      <td>Tennis</td>\n",
       "      <td>Tennis Men's Doubles</td>\n",
       "      <td>Silver</td>\n",
       "    </tr>\n",
       "    <tr>\n",
       "      <th>262831</th>\n",
       "      <td>131511</td>\n",
       "      <td>Mark Raymond Woodforde</td>\n",
       "      <td>M</td>\n",
       "      <td>34.0</td>\n",
       "      <td>183.0</td>\n",
       "      <td>80.0</td>\n",
       "      <td>Australia</td>\n",
       "      <td>AUS</td>\n",
       "      <td>2000 Summer</td>\n",
       "      <td>2000</td>\n",
       "      <td>Summer</td>\n",
       "      <td>Sydney</td>\n",
       "      <td>Tennis</td>\n",
       "      <td>Tennis Men's Doubles</td>\n",
       "      <td>Silver</td>\n",
       "    </tr>\n",
       "  </tbody>\n",
       "</table>\n",
       "</div>"
      ],
      "text/plain": [
       "            ID                    Name Sex   Age  Height  Weight       Team  \\\n",
       "262820  131504  Todd Andrew Woodbridge   M  29.0   178.0    75.0  Australia   \n",
       "262831  131511  Mark Raymond Woodforde   M  34.0   183.0    80.0  Australia   \n",
       "\n",
       "        NOC        Games  Year  Season    City   Sport                 Event  \\\n",
       "262820  AUS  2000 Summer  2000  Summer  Sydney  Tennis  Tennis Men's Doubles   \n",
       "262831  AUS  2000 Summer  2000  Summer  Sydney  Tennis  Tennis Men's Doubles   \n",
       "\n",
       "         Medal  \n",
       "262820  Silver  \n",
       "262831  Silver  "
      ]
     },
     "execution_count": 95,
     "metadata": {},
     "output_type": "execute_result"
    }
   ],
   "source": [
    "# You code here \n",
    "australia2000 = data2000olympics[data2000olympics['Team'] == 'Australia']\n",
    "australia2000[(australia2000['Medal'] == 'Silver') & (australia2000['Sport'] == 'Tennis')]\n",
    "# Australia won 2 silver medals in 2000 olympics in tennis"
   ]
  },
  {
   "cell_type": "markdown",
   "metadata": {},
   "source": [
    "__7. Is it true that Switzerland won fewer medals than Serbia at the 2016 Olympics? Do not consider NaN values in _Medal_ column.__ \n",
    "\n",
    "- Yes \n",
    "- No"
   ]
  },
  {
   "cell_type": "code",
   "execution_count": 105,
   "metadata": {},
   "outputs": [
    {
     "name": "stdout",
     "output_type": "stream",
     "text": [
      "switzerland_medal_count  11\n",
      "serbia_medal_count  54\n"
     ]
    }
   ],
   "source": [
    "# You code here \n",
    "\n",
    "switzerland_2016_medals = data[(data['Team'] == 'Switzerland') & (data['Year'] == 2016)]\n",
    "serbia_2016_medals = data[(data['Team'] == 'Serbia') & (data['Year'] == 2016)]\n",
    "serbia_medal_count = serbia_2016_medals[~serbia_2016_medals['Medal'].isnull()]\n",
    "switzerland_medal_count = switzerland_2016_medals[~switzerland_2016_medals['Medal'].isnull()]\n",
    "len(switzerland_medal_count) < len(serbia_medal_count)\n",
    "print('switzerland_medal_count ',len(switzerland_medal_count))\n",
    "print('serbia_medal_count ',len(serbia_medal_count))\n",
    "# the answer is Yes"
   ]
  },
  {
   "cell_type": "markdown",
   "metadata": {},
   "source": [
    "__8. What age category did the fewest and the most participants of the 2014 Olympics belong to?__\n",
    "- [45-55] and [25-35) correspondingly\n",
    "- [45-55] and [15-25) correspondingly\n",
    "- [35-45] and [25-35) correspondingly\n",
    "- [45-55] and [35-45) correspondingly"
   ]
  },
  {
   "cell_type": "code",
   "execution_count": 114,
   "metadata": {},
   "outputs": [],
   "source": [
    "# You code here \n",
    "def age_bins(x):\n",
    "    if 15 < x <= 25:\n",
    "        return('15-25')\n",
    "    elif 25 < x <= 35:\n",
    "        return('25-35')\n",
    "    elif 35 < x <= 45:\n",
    "        return('35-45')\n",
    "    else:\n",
    "        return('45-55')"
   ]
  },
  {
   "cell_type": "code",
   "execution_count": 120,
   "metadata": {},
   "outputs": [
    {
     "name": "stderr",
     "output_type": "stream",
     "text": [
      "C:\\Users\\Goutham\\Anaconda3\\lib\\site-packages\\ipykernel_launcher.py:2: SettingWithCopyWarning: \n",
      "A value is trying to be set on a copy of a slice from a DataFrame.\n",
      "Try using .loc[row_indexer,col_indexer] = value instead\n",
      "\n",
      "See the caveats in the documentation: http://pandas.pydata.org/pandas-docs/stable/indexing.html#indexing-view-versus-copy\n",
      "  \n"
     ]
    },
    {
     "data": {
      "text/html": [
       "<div>\n",
       "<style scoped>\n",
       "    .dataframe tbody tr th:only-of-type {\n",
       "        vertical-align: middle;\n",
       "    }\n",
       "\n",
       "    .dataframe tbody tr th {\n",
       "        vertical-align: top;\n",
       "    }\n",
       "\n",
       "    .dataframe thead th {\n",
       "        text-align: right;\n",
       "    }\n",
       "</style>\n",
       "<table border=\"1\" class=\"dataframe\">\n",
       "  <thead>\n",
       "    <tr style=\"text-align: right;\">\n",
       "      <th></th>\n",
       "      <th>ID</th>\n",
       "      <th>Name</th>\n",
       "      <th>Sex</th>\n",
       "      <th>Age</th>\n",
       "      <th>Height</th>\n",
       "      <th>Weight</th>\n",
       "      <th>Team</th>\n",
       "      <th>NOC</th>\n",
       "      <th>Games</th>\n",
       "      <th>Year</th>\n",
       "      <th>Season</th>\n",
       "      <th>City</th>\n",
       "      <th>Sport</th>\n",
       "      <th>Event</th>\n",
       "      <th>Medal</th>\n",
       "    </tr>\n",
       "    <tr>\n",
       "      <th>AgeBins</th>\n",
       "      <th></th>\n",
       "      <th></th>\n",
       "      <th></th>\n",
       "      <th></th>\n",
       "      <th></th>\n",
       "      <th></th>\n",
       "      <th></th>\n",
       "      <th></th>\n",
       "      <th></th>\n",
       "      <th></th>\n",
       "      <th></th>\n",
       "      <th></th>\n",
       "      <th></th>\n",
       "      <th></th>\n",
       "      <th></th>\n",
       "    </tr>\n",
       "  </thead>\n",
       "  <tbody>\n",
       "    <tr>\n",
       "      <th>15-25</th>\n",
       "      <td>2412</td>\n",
       "      <td>2412</td>\n",
       "      <td>2412</td>\n",
       "      <td>2412</td>\n",
       "      <td>2396</td>\n",
       "      <td>2254</td>\n",
       "      <td>2412</td>\n",
       "      <td>2412</td>\n",
       "      <td>2412</td>\n",
       "      <td>2412</td>\n",
       "      <td>2412</td>\n",
       "      <td>2412</td>\n",
       "      <td>2412</td>\n",
       "      <td>2412</td>\n",
       "      <td>250</td>\n",
       "    </tr>\n",
       "    <tr>\n",
       "      <th>25-35</th>\n",
       "      <td>2281</td>\n",
       "      <td>2281</td>\n",
       "      <td>2281</td>\n",
       "      <td>2281</td>\n",
       "      <td>2277</td>\n",
       "      <td>2227</td>\n",
       "      <td>2281</td>\n",
       "      <td>2281</td>\n",
       "      <td>2281</td>\n",
       "      <td>2281</td>\n",
       "      <td>2281</td>\n",
       "      <td>2281</td>\n",
       "      <td>2281</td>\n",
       "      <td>2281</td>\n",
       "      <td>316</td>\n",
       "    </tr>\n",
       "    <tr>\n",
       "      <th>35-45</th>\n",
       "      <td>184</td>\n",
       "      <td>184</td>\n",
       "      <td>184</td>\n",
       "      <td>184</td>\n",
       "      <td>184</td>\n",
       "      <td>181</td>\n",
       "      <td>184</td>\n",
       "      <td>184</td>\n",
       "      <td>184</td>\n",
       "      <td>184</td>\n",
       "      <td>184</td>\n",
       "      <td>184</td>\n",
       "      <td>184</td>\n",
       "      <td>184</td>\n",
       "      <td>28</td>\n",
       "    </tr>\n",
       "    <tr>\n",
       "      <th>45-55</th>\n",
       "      <td>14</td>\n",
       "      <td>14</td>\n",
       "      <td>14</td>\n",
       "      <td>14</td>\n",
       "      <td>14</td>\n",
       "      <td>11</td>\n",
       "      <td>14</td>\n",
       "      <td>14</td>\n",
       "      <td>14</td>\n",
       "      <td>14</td>\n",
       "      <td>14</td>\n",
       "      <td>14</td>\n",
       "      <td>14</td>\n",
       "      <td>14</td>\n",
       "      <td>3</td>\n",
       "    </tr>\n",
       "  </tbody>\n",
       "</table>\n",
       "</div>"
      ],
      "text/plain": [
       "           ID  Name   Sex   Age  Height  Weight  Team   NOC  Games  Year  \\\n",
       "AgeBins                                                                    \n",
       "15-25    2412  2412  2412  2412    2396    2254  2412  2412   2412  2412   \n",
       "25-35    2281  2281  2281  2281    2277    2227  2281  2281   2281  2281   \n",
       "35-45     184   184   184   184     184     181   184   184    184   184   \n",
       "45-55      14    14    14    14      14      11    14    14     14    14   \n",
       "\n",
       "         Season  City  Sport  Event  Medal  \n",
       "AgeBins                                     \n",
       "15-25      2412  2412   2412   2412    250  \n",
       "25-35      2281  2281   2281   2281    316  \n",
       "35-45       184   184    184    184     28  \n",
       "45-55        14    14     14     14      3  "
      ]
     },
     "execution_count": 120,
     "metadata": {},
     "output_type": "execute_result"
    }
   ],
   "source": [
    "olympics2014 = data[data['Year'] == 2014]\n",
    "olympics2014['AgeBins'] = olympics2014['Age'].transform(age_bins)\n",
    "olympics2014.groupby('AgeBins').count()\n",
    "# fewest participants belonged to 45-55 age group\n",
    "# most participants belonged to 25-35"
   ]
  },
  {
   "cell_type": "markdown",
   "metadata": {},
   "source": [
    "__9. Is it true that there were Summer Olympics held in Lake Placid? Is it true that there were Winter Olympics held in Sankt Moritz?__\n",
    "\n",
    "- Yes, Yes\n",
    "- Yes, No\n",
    "- No, Yes \n",
    "- No, No "
   ]
  },
  {
   "cell_type": "code",
   "execution_count": 130,
   "metadata": {},
   "outputs": [
    {
     "name": "stdout",
     "output_type": "stream",
     "text": [
      "['Winter'] ['Winter']\n"
     ]
    }
   ],
   "source": [
    "# You code here \n",
    "lake_placid_seasons = data[data['City'] == 'Lake Placid']['Season'].unique()\n",
    "sankt_mortiz_seasons = data[data['City'] == 'Sankt Moritz']['Season'].unique()\n",
    "print(lake_placid_seasons,sankt_mortiz_seasons)\n",
    "# answer is No,Yes"
   ]
  },
  {
   "cell_type": "markdown",
   "metadata": {},
   "source": [
    "__10. What is the absolute difference between the number of unique sports at the 1995 Olympics and 2016 Olympics?__\n",
    "\n",
    "- 16\n",
    "- 24\n",
    "- 26\n",
    "- 34"
   ]
  },
  {
   "cell_type": "code",
   "execution_count": 185,
   "metadata": {},
   "outputs": [
    {
     "data": {
      "text/plain": [
       "34"
      ]
     },
     "execution_count": 185,
     "metadata": {},
     "output_type": "execute_result"
    }
   ],
   "source": [
    "# You code here \n",
    "olympics1996 = data[data['Year'] == 1995]\n",
    "olympics2016 = data[data['Year'] == 2016]\n",
    "olympics2016['Sport'].nunique() - olympics1996['Sport'].nunique()"
   ]
  },
  {
   "cell_type": "code",
   "execution_count": null,
   "metadata": {},
   "outputs": [],
   "source": []
  },
  {
   "cell_type": "code",
   "execution_count": null,
   "metadata": {},
   "outputs": [],
   "source": []
  },
  {
   "cell_type": "code",
   "execution_count": null,
   "metadata": {},
   "outputs": [],
   "source": []
  },
  {
   "cell_type": "code",
   "execution_count": 178,
   "metadata": {},
   "outputs": [],
   "source": []
  },
  {
   "cell_type": "code",
   "execution_count": null,
   "metadata": {},
   "outputs": [],
   "source": []
  },
  {
   "cell_type": "code",
   "execution_count": null,
   "metadata": {},
   "outputs": [],
   "source": []
  }
 ],
 "metadata": {
  "kernelspec": {
   "display_name": "Python 3",
   "language": "python",
   "name": "python3"
  },
  "language_info": {
   "codemirror_mode": {
    "name": "ipython",
    "version": 3
   },
   "file_extension": ".py",
   "mimetype": "text/x-python",
   "name": "python",
   "nbconvert_exporter": "python",
   "pygments_lexer": "ipython3",
   "version": "3.6.6"
  }
 },
 "nbformat": 4,
 "nbformat_minor": 2
}
